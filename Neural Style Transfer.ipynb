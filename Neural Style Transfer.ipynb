{
 "cells": [
  {
   "cell_type": "markdown",
   "id": "db5d4e81",
   "metadata": {},
   "source": [
    "# Neural Style Transfer "
   ]
  },
  {
   "cell_type": "code",
   "execution_count": 12,
   "id": "b4cdc751",
   "metadata": {},
   "outputs": [],
   "source": [
    "#Importing Libraries\n",
    "import tensorflow as tf\n",
    "import numpy as np\n",
    "import matplotlib.pyplot as plt\n",
    "from tensorflow import keras\n",
    "from tensorflow.keras.applications import vgg19"
   ]
  },
  {
   "cell_type": "code",
   "execution_count": 7,
   "id": "0c85daa0",
   "metadata": {},
   "outputs": [],
   "source": [
    "#Path variables\n",
    "base_image_path = \"Images/content.jpeg\"\n",
    "style_image_path = \"Images/style.jpg\""
   ]
  }
 ],
 "metadata": {
  "kernelspec": {
   "display_name": "Python 3 (ipykernel)",
   "language": "python",
   "name": "python3"
  },
  "language_info": {
   "codemirror_mode": {
    "name": "ipython",
    "version": 3
   },
   "file_extension": ".py",
   "mimetype": "text/x-python",
   "name": "python",
   "nbconvert_exporter": "python",
   "pygments_lexer": "ipython3",
   "version": "3.10.6"
  }
 },
 "nbformat": 4,
 "nbformat_minor": 5
}
